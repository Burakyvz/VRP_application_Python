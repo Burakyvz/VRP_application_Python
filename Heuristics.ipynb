{
 "cells": [
  {
   "cell_type": "markdown",
   "id": "69ebe50f",
   "metadata": {},
   "source": [
    "### 1- Apply Savings algorithm for the VRP (note that this algorithm should be rewritten for the VRP and not TSP and the data is asymmetric)"
   ]
  },
  {
   "cell_type": "markdown",
   "id": "f2fd21a8",
   "metadata": {},
   "source": [
    "Importing necessary libraries"
   ]
  },
  {
   "cell_type": "code",
   "execution_count": 7,
   "id": "9c342e3f",
   "metadata": {},
   "outputs": [],
   "source": [
    "import pandas as pd\n",
    "import numpy as np"
   ]
  },
  {
   "cell_type": "markdown",
   "id": "0d3b272b",
   "metadata": {},
   "source": [
    "Read the distance matrix & demand from the excel file Exam-Data.xls, I used the following link to learn how to do it: https://stackoverflow.com/questions/26521266/using-pandas-to-pd-read-excel-for-multiple-worksheets-of-the-same-workbook#:~:text=xls%20%3D%20pd.ExcelFile(%27path_to_file.xls%27)%0Adf1%20%3D%20pd.read_excel(xls%2C%20%27Sheet1%27)%0Adf2%20%3D%20pd.read_excel(xls%2C%20%27Sheet2%27)"
   ]
  },
  {
   "cell_type": "code",
   "execution_count": 8,
   "id": "a61a34b6",
   "metadata": {},
   "outputs": [],
   "source": [
    "#To read different sheets in an excel file we can you this block of code\n",
    "xls = pd.ExcelFile('real_distances_30_customers.xlsx') \n",
    "df_distance_matrix = pd.read_excel(xls, 'distance', header=None) # header=None make first row not the header\n",
    "df_demand = pd.read_excel(xls, 'demand', index_col=0) # col= 0 because in data we have the indexes"
   ]
  },
  {
   "cell_type": "code",
   "execution_count": 9,
   "id": "30dc2d06",
   "metadata": {},
   "outputs": [],
   "source": [
    "d = df_distance_matrix.values.tolist() # to make pandas df a python's built-in list"
   ]
  },
  {
   "cell_type": "markdown",
   "id": "6cd36bc1",
   "metadata": {},
   "source": [
    "\"demand = demand_df.values.tolist()\" is gives the demand list in lists to make it not lists in a list I used following link, https://stackoverflow.com/questions/716477/join-list-of-lists-in-python#:~:text=x%20%3D%20%5B%5B%22a%22%2C%22b%22%5D%2C%20%5B%22c%22%5D%5D%0A%0Aresult%20%3D%20sum(x%2C%20%5B%5D)"
   ]
  },
  {
   "cell_type": "code",
   "execution_count": 405,
   "id": "b8f14ec6",
   "metadata": {},
   "outputs": [],
   "source": [
    "demand_list = sum(df_demand.values.tolist(), [])  # explained above "
   ]
  },
  {
   "cell_type": "code",
   "execution_count": 11,
   "id": "e896929f",
   "metadata": {},
   "outputs": [],
   "source": [
    "vehicle_capacity = 120 #given in the data "
   ]
  },
  {
   "cell_type": "code",
   "execution_count": 12,
   "id": "79a16a83",
   "metadata": {},
   "outputs": [],
   "source": [
    "origin = 0 # depot node"
   ]
  },
  {
   "cell_type": "code",
   "execution_count": 13,
   "id": "a8e57c73",
   "metadata": {},
   "outputs": [],
   "source": [
    "n_veh = int(np.ceil(sum(demand_list)/vehicle_capacity)) # min number of vehicle that we will use"
   ]
  },
  {
   "cell_type": "code",
   "execution_count": 14,
   "id": "ba7375e7",
   "metadata": {
    "scrolled": true
   },
   "outputs": [
    {
     "data": {
      "text/plain": [
       "3"
      ]
     },
     "execution_count": 14,
     "metadata": {},
     "output_type": "execute_result"
    }
   ],
   "source": [
    "n_veh"
   ]
  },
  {
   "cell_type": "code",
   "execution_count": 410,
   "id": "acc5f18b",
   "metadata": {},
   "outputs": [],
   "source": [
    "nodes = []\n",
    "for i in range(31):\n",
    "    nodes.append(i)\n",
    "    \n",
    "def VRP_savings(nodes, origin, d, n_veh, demand_list, vehicle_capacity):\n",
    "    '''\n",
    "    Constructs a VRP solution using the savings method for a given set/list of \n",
    "    nodes, their pairwise distances-d, the origin, number of vehicle, demand list and the vehicle capacity.\n",
    "    '''\n",
    "    ans = [] # Creating an empty list to store solution data\n",
    "    for iteration in range(n_veh): # every iteration is for finding the vehicle's route and the tour length of the route\n",
    "            # Set of customer nodes (i.e. nodes other than the origin)\n",
    "            customers = {i for i in nodes if i != origin}\n",
    "\n",
    "            # Initialize out-and-back tours from the origin to every other node\n",
    "            tours = {(i,i): [origin, i, origin] for i in customers}\n",
    "\n",
    "            # Compute savings\n",
    "            savings = {(i, j): round(d[i][origin] + d[origin][j] - d[i][j], 2) \n",
    "                       for i in customers for j in customers if j != i}\n",
    "\n",
    "            # Define a priority queue dictionary to get a pair of nodes (i,j) which yields\n",
    "            # the maximum savings\n",
    "            #pq = pqdict(savings, reverse = True)\n",
    "            sorted_savings = sorted(savings.items(), key=lambda item: item[1]) # the savings in ASC order\n",
    "            # Merge subtours until obtaining a TSP tour\n",
    "            break_while = False # to control while loop\n",
    "            while len(tours) > 1 and not break_while: #if you have only 1 tour left then its last vehicle's tour no need to check\n",
    "                A = sorted_savings.pop() # pops the maximum savings(because sorted_savings in ASC order) and stores it as a variable \n",
    "                # A = (i, j) --> biggest saving\n",
    "                i = A[0][0] # i\n",
    "                j = A[0][1] # j\n",
    "      \n",
    "                break_outer = False  # Outer loop\n",
    "\n",
    "                for t1 in tours: # iterate all tours \n",
    "                    for t2 in tours.keys()-{t1}: # iterate over all tours except t1\n",
    "                        sum_= 0\n",
    "                        for x in (tours[t1][:-1] + tours[t2][1:]): # iterates over the tour if merge happens \n",
    "                            sum_ += demand_list[x] # to find capacity will if merge happens\n",
    "                        if sum_ > vehicle_capacity: # if used capacity > vehicle capacity\n",
    "                            break_while = True  \n",
    "                            break\n",
    "                        if t1[1] == i and t2[0] == j:  # checks the constraint 𝑖 is the last node in its subtour and 𝑗 is the first node in its subtour (i.e., (𝑖,𝑜) and (𝑜,𝑗) are in the subtours containing 𝑖 and 𝑗, respectively)                     \n",
    "                            tours[(t1[0], t2[1])] = tours[t1][:-1] + tours[t2][1:] # merging the tours\n",
    "                            del tours[t1], tours[t2] # delete the tours (e.g. 0-1-0, 0-2-0 merged 0-1-2-0. now we have to delete 0-1-0 and 0-2-0)\n",
    "                            break_outer = True \n",
    "                            break\n",
    "                    if break_outer:\n",
    "                        break \n",
    "\n",
    "            x = tours.popitem() # delete the tour that achieved its capacity or that will exceed its capacity if one more merge happens\n",
    "            \n",
    "            ans.append(x[1]) # append the value of that tour to ans list\n",
    "            for i in ans[iteration][1:]: # delete the nodes that used \n",
    "                for j in nodes:\n",
    "                    if i == j:\n",
    "                        nodes.remove(i)\n",
    "                        \n",
    "    # compute the answer's length\n",
    "    ans_len = 0 \n",
    "    for r in ans:\n",
    "        for i in range(len(r)-1):\n",
    "            ans_len += d[r[i]][r[i+1]]\n",
    "            \n",
    "    return ans, round(ans_len, 2) # return the ans and ans_len"
   ]
  },
  {
   "cell_type": "code",
   "execution_count": 411,
   "id": "c757e7d1",
   "metadata": {},
   "outputs": [
    {
     "name": "stdout",
     "output_type": "stream",
     "text": [
      "[[0, 16, 13, 30, 6, 25, 7, 12, 21, 8, 18, 3, 0], [0, 22, 17, 5, 11, 10, 20, 15, 2, 29, 28, 26, 1, 0], [0, 27, 14, 4, 19, 24, 23, 9, 0]] 2542.2\n"
     ]
    }
   ],
   "source": [
    "vrp_solution_saving, vrp_solution_saving_len = VRP_savings(nodes, origin, d, n_veh, demand_list, vehicle_capacity)\n",
    "print(vrp_solution_saving, vrp_solution_saving_len)"
   ]
  },
  {
   "cell_type": "markdown",
   "id": "d5bed25b",
   "metadata": {},
   "source": [
    "### 2- Apply 2-exchange algorithms exhaustively (try all possible improvements) to improve the solution you obtained from 1."
   ]
  },
  {
   "cell_type": "markdown",
   "id": "d39c970f",
   "metadata": {},
   "source": [
    "I used list() otherwise in the swapList function it swaps all list that intended or unintended. I found the solution in that link:\n",
    "https://stackoverflow.com/questions/29785084/changing-one-list-unexpectedly-changes-another-too#:~:text=different%20arrays%20use%3A-,vec%20%3D%20list(v),-Share"
   ]
  },
  {
   "cell_type": "code",
   "execution_count": 359,
   "id": "c5b7b34e",
   "metadata": {},
   "outputs": [],
   "source": [
    "def two_exchange(vrp_solution, d):\n",
    "    '''\n",
    "    Improves a given VRP solution using the 2-exchange algorithm.\n",
    "    It is a general function which can solve asymmetric and symmetric matrices. \n",
    "    '''\n",
    "    \n",
    "    def swapList(sl,pos1,pos2):\n",
    "        '''\n",
    "        Swaps 2 list element according to their index.\n",
    "        The list, and indexes of 2 item that will be swapped must be given. \n",
    "        '''\n",
    "        n = len(sl) # n --> length of the list\n",
    "        \n",
    "        # Swapping \n",
    "        temp = sl[pos1]\n",
    "        sl[pos1] = sl[pos2]\n",
    "        sl[pos2] = temp\n",
    "        return sl  \n",
    "    \n",
    "    def sol_leng(list, d):\n",
    "        '''\n",
    "        gives the route length of a list.\n",
    "        a list and a distance matrix must be given\n",
    "        '''\n",
    "        sol_len= 0\n",
    "        for i in range(len(list)-1):\n",
    "            sol_len += d[list[i]][list[i+1]]\n",
    "        return sol_len\n",
    "     \n",
    "    improved_sol = [] # the list that we will be store data of the solution\n",
    "    improved_sol_length = 0 # with that var we keep track of the length of the soloution\n",
    "    for r in range(len(vrp_solution)): # iterates the indexes in vrp_solution that given\n",
    "        sol = list(vrp_solution[r]) # creating the list to compare\n",
    "        sol_len = sol_leng(sol, d) # giving the length value to compare\n",
    "\n",
    "        for i in range(len(sol)): # iterating the indexes of the sol\n",
    "            if sol[i] != 0: # if sol is not the origin node\n",
    "                #print(sol)\n",
    "                #print(sol_len)\n",
    "                for j in range(len(sol)): # iterating the indexes of the sol\n",
    "                    if sol[i] != sol[j] and sol[j] != 0: # if they are not the same or the origin node\n",
    "                        # Making the exchanged list \n",
    "                        temp = list(sol) \n",
    "                        temp = list(swapList(temp, i, j))\n",
    "                        temp_len = sol_leng(temp, d)\n",
    "                        #print(\"swapping\", i,\" and \", j)\n",
    "                        #print(\"temp: \", temp, \"temp len: \", temp_len)\n",
    "                        # To control if we have a better solution after exchange\n",
    "                        if temp_len < sol_len: # If we have a better solution via exchange we will make the exchange\n",
    "                            #print(\"solution improved\")\n",
    "                            sol_len = temp_len\n",
    "                            sol = list(temp)\n",
    "        improved_sol.append(sol) # append the improved solution to improved_sol\n",
    "        improved_sol_length += sol_len # add the length of the tour \n",
    "            \n",
    "    return improved_sol, improved_sol_length"
   ]
  },
  {
   "cell_type": "code",
   "execution_count": 402,
   "id": "f377563f",
   "metadata": {},
   "outputs": [
    {
     "name": "stdout",
     "output_type": "stream",
     "text": [
      "[[0, 16, 13, 30, 6, 25, 7, 21, 8, 12, 18, 3, 0], [0, 22, 17, 5, 11, 10, 20, 2, 15, 29, 28, 26, 1, 0], [0, 27, 14, 4, 19, 24, 23, 9, 0]] 2522.9\n"
     ]
    }
   ],
   "source": [
    "improved_sol_2ex, improved_sol_length_2ex = two_exchange(vrp_solution_saving, d)\n",
    "print(improved_sol_2ex, round(improved_sol_length_2ex, 2))"
   ]
  },
  {
   "cell_type": "markdown",
   "id": "f6071bdc",
   "metadata": {},
   "source": [
    "### 3- Apply 2-opt algorithms greedily and stop when the first improvement is recognised to improve the solution you obtained from 2."
   ]
  },
  {
   "cell_type": "markdown",
   "id": "393a0e95",
   "metadata": {},
   "source": [
    "##### greedy_two_opt is the modificated two_opt TSPlib function. We showed the parts that we changed with #Greedy comment and explained\n",
    "#### I added greedy_two_opt to TSPlib and I made a function called VRP_greedy_two_opt in VRPlib with using greedy_two_opt"
   ]
  },
  {
   "cell_type": "code",
   "execution_count": 390,
   "id": "d8e48a3a",
   "metadata": {},
   "outputs": [],
   "source": [
    "def greedy_two_opt(tour, tour_length, d):\n",
    "    '''\n",
    "    Improves a given TSP solution using the Greedy 2-opt algorithm.\n",
    "    It is a general function which can solve asymmetric and symmetric matrices. \n",
    "    '''\n",
    "    current_tour, current_tour_length = tour, tour_length \n",
    "    best_tour, best_tour_length = current_tour, current_tour_length \n",
    "    solution_improved = True #Greedy (If improved stop)\n",
    "    improved = False\n",
    "    while solution_improved and not improved:\n",
    "        print()\n",
    "        print('Attempting to improve the tour', current_tour, \n",
    "              'with length', current_tour_length)\n",
    "        solution_improved = False\n",
    "        \n",
    "        for i in range(1, len(current_tour)-2):\n",
    "            for j in range(i+1, len(current_tour)-1):\n",
    "                difference = round((d[current_tour[i-1]][current_tour[j]]\n",
    "                                  + d[current_tour[i]][current_tour[j+1]]\n",
    "                                  - d[current_tour[i-1]][current_tour[i]]\n",
    "                                  - d[current_tour[j]][current_tour[j+1]])\n",
    "                                  + d[current_tour[j]][current_tour[i]]     # with the added last two codes we can\n",
    "                                  - d[current_tour[i]][current_tour[j]], 2) # use this in also asymmetric matrixs\n",
    "                \n",
    "                print('Cost difference due to swapping', current_tour[i], 'and',\n",
    "                      current_tour[j], 'is:', difference)\n",
    "                \n",
    "                if current_tour_length + difference < best_tour_length:\n",
    "                    print('Found an improving move! Updating the best tour...')\n",
    "                    \n",
    "                    best_tour = current_tour[:i] + list(reversed(current_tour[i:j+1])) + current_tour[j+1:]\n",
    "                    best_tour_length = round(current_tour_length + difference, 2)\n",
    "                    \n",
    "                    print('Improved tour is:', best_tour, 'with length',\n",
    "                          best_tour_length)\n",
    "                    improved = True #Greedy (The tour is improved)\n",
    "                    solution_improved = True\n",
    "                if improved: #Greedy (breaks the inner for loop)\n",
    "                    break\n",
    "            if improved: #Greedy (breaks the outer for loop)\n",
    "                break\n",
    "        if improved: # Greedy (breaks the while loop)\n",
    "            break\n",
    "        current_tour, current_tour_length = best_tour, best_tour_length\n",
    "    \n",
    "    # Return the resulting tour and its length as a tuple\n",
    "    return best_tour, best_tour_length"
   ]
  },
  {
   "cell_type": "code",
   "execution_count": 391,
   "id": "bdfc98f6",
   "metadata": {},
   "outputs": [
    {
     "name": "stdout",
     "output_type": "stream",
     "text": [
      "\n",
      "Attempting to improve the tour [0, 16, 13, 30, 6, 25, 7, 21, 8, 12, 18, 3, 0] with length 1000.4000000000001\n",
      "Cost difference due to swapping 16 and 13 is: 36.3\n",
      "Cost difference due to swapping 16 and 30 is: 133.0\n",
      "Cost difference due to swapping 16 and 6 is: 156.7\n",
      "Cost difference due to swapping 16 and 25 is: 132.1\n",
      "Cost difference due to swapping 16 and 7 is: 162.5\n",
      "Cost difference due to swapping 16 and 21 is: 242.5\n",
      "Cost difference due to swapping 16 and 8 is: 253.1\n",
      "Cost difference due to swapping 16 and 12 is: 250.6\n",
      "Cost difference due to swapping 16 and 18 is: 187.4\n",
      "Cost difference due to swapping 16 and 3 is: 17.2\n",
      "Cost difference due to swapping 13 and 30 is: 96.7\n",
      "Cost difference due to swapping 13 and 6 is: 120.4\n",
      "Cost difference due to swapping 13 and 25 is: 114.5\n",
      "Cost difference due to swapping 13 and 7 is: 130.7\n",
      "Cost difference due to swapping 13 and 21 is: 250.7\n",
      "Cost difference due to swapping 13 and 8 is: 256.0\n",
      "Cost difference due to swapping 13 and 12 is: 279.2\n",
      "Cost difference due to swapping 13 and 18 is: 259.7\n",
      "Cost difference due to swapping 13 and 3 is: 161.6\n",
      "Cost difference due to swapping 30 and 6 is: 96.6\n",
      "Cost difference due to swapping 30 and 25 is: 107.8\n",
      "Cost difference due to swapping 30 and 7 is: 137.2\n",
      "Cost difference due to swapping 30 and 21 is: 232.8\n",
      "Cost difference due to swapping 30 and 8 is: 243.3\n",
      "Cost difference due to swapping 30 and 12 is: 263.9\n",
      "Cost difference due to swapping 30 and 18 is: 240.6\n",
      "Cost difference due to swapping 30 and 3 is: 237.5\n",
      "Cost difference due to swapping 6 and 25 is: 41.5\n",
      "Cost difference due to swapping 6 and 7 is: 58.5\n",
      "Cost difference due to swapping 6 and 21 is: 170.8\n",
      "Cost difference due to swapping 6 and 8 is: 184.5\n",
      "Cost difference due to swapping 6 and 12 is: 205.5\n",
      "Cost difference due to swapping 6 and 18 is: 196.7\n",
      "Cost difference due to swapping 6 and 3 is: 179.6\n",
      "Cost difference due to swapping 25 and 7 is: 10.7\n",
      "Cost difference due to swapping 25 and 21 is: 124.4\n",
      "Cost difference due to swapping 25 and 8 is: 130.3\n",
      "Cost difference due to swapping 25 and 12 is: 157.0\n",
      "Cost difference due to swapping 25 and 18 is: 177.9\n",
      "Cost difference due to swapping 25 and 3 is: 151.0\n",
      "Cost difference due to swapping 7 and 21 is: 114.1\n",
      "Cost difference due to swapping 7 and 8 is: 115.3\n",
      "Cost difference due to swapping 7 and 12 is: 142.6\n",
      "Cost difference due to swapping 7 and 18 is: 119.3\n",
      "Cost difference due to swapping 7 and 3 is: 157.2\n",
      "Cost difference due to swapping 21 and 8 is: 4.1\n",
      "Cost difference due to swapping 21 and 12 is: 20.4\n",
      "Cost difference due to swapping 21 and 18 is: 71.8\n",
      "Cost difference due to swapping 21 and 3 is: 99.3\n",
      "Cost difference due to swapping 8 and 12 is: 14.8\n",
      "Cost difference due to swapping 8 and 18 is: 71.4\n",
      "Cost difference due to swapping 8 and 3 is: 169.6\n",
      "Cost difference due to swapping 12 and 18 is: 45.8\n",
      "Cost difference due to swapping 12 and 3 is: 138.5\n",
      "Cost difference due to swapping 18 and 3 is: 116.3\n",
      "\n",
      "Attempting to improve the tour [0, 22, 17, 5, 11, 10, 20, 2, 15, 29, 28, 26, 1, 0] with length 999.8000000000001\n",
      "Cost difference due to swapping 22 and 17 is: 24.1\n",
      "Cost difference due to swapping 22 and 5 is: 90.7\n",
      "Cost difference due to swapping 22 and 11 is: 141.7\n",
      "Cost difference due to swapping 22 and 10 is: 175.3\n",
      "Cost difference due to swapping 22 and 20 is: 169.6\n",
      "Cost difference due to swapping 22 and 2 is: 220.3\n",
      "Cost difference due to swapping 22 and 15 is: 169.5\n",
      "Cost difference due to swapping 22 and 29 is: 169.5\n",
      "Cost difference due to swapping 22 and 28 is: 80.3\n",
      "Cost difference due to swapping 22 and 26 is: 82.9\n",
      "Cost difference due to swapping 22 and 1 is: 7.0\n",
      "Cost difference due to swapping 17 and 5 is: 41.3\n",
      "Cost difference due to swapping 17 and 11 is: 176.8\n",
      "Cost difference due to swapping 17 and 10 is: 210.4\n",
      "Cost difference due to swapping 17 and 20 is: 227.8\n",
      "Cost difference due to swapping 17 and 2 is: 265.1\n",
      "Cost difference due to swapping 17 and 15 is: 218.8\n",
      "Cost difference due to swapping 17 and 29 is: 218.8\n",
      "Cost difference due to swapping 17 and 28 is: 134.1\n",
      "Cost difference due to swapping 17 and 26 is: 144.2\n",
      "Cost difference due to swapping 17 and 1 is: 83.8\n",
      "Cost difference due to swapping 5 and 11 is: 131.0\n",
      "Cost difference due to swapping 5 and 10 is: 164.6\n",
      "Cost difference due to swapping 5 and 20 is: 201.5\n",
      "Cost difference due to swapping 5 and 2 is: 243.4\n",
      "Cost difference due to swapping 5 and 15 is: 194.7\n",
      "Cost difference due to swapping 5 and 29 is: 194.7\n",
      "Cost difference due to swapping 5 and 28 is: 138.7\n",
      "Cost difference due to swapping 5 and 26 is: 163.7\n",
      "Cost difference due to swapping 5 and 1 is: 121.1\n",
      "Cost difference due to swapping 11 and 10 is: 34.5\n",
      "Cost difference due to swapping 11 and 20 is: 61.7\n",
      "Cost difference due to swapping 11 and 2 is: 136.5\n",
      "Cost difference due to swapping 11 and 15 is: 60.8\n",
      "Cost difference due to swapping 11 and 29 is: 60.8\n",
      "Cost difference due to swapping 11 and 28 is: 25.3\n",
      "Cost difference due to swapping 11 and 26 is: 79.6\n",
      "Cost difference due to swapping 11 and 1 is: 66.6\n",
      "Cost difference due to swapping 10 and 20 is: 37.7\n",
      "Cost difference due to swapping 10 and 2 is: 118.2\n",
      "Cost difference due to swapping 10 and 15 is: 43.2\n",
      "Cost difference due to swapping 10 and 29 is: 49.1\n",
      "Cost difference due to swapping 10 and 28 is: 25.8\n",
      "Cost difference due to swapping 10 and 26 is: 89.3\n",
      "Cost difference due to swapping 10 and 1 is: 80.2\n",
      "Cost difference due to swapping 20 and 2 is: 93.9\n",
      "Cost difference due to swapping 20 and 15 is: 51.2\n",
      "Cost difference due to swapping 20 and 29 is: 48.9\n",
      "Cost difference due to swapping 20 and 28 is: 44.3\n",
      "Cost difference due to swapping 20 and 26 is: 124.9\n",
      "Cost difference due to swapping 20 and 1 is: 115.8\n",
      "Cost difference due to swapping 2 and 15 is: 4.5\n",
      "Cost difference due to swapping 2 and 29 is: 38.2\n",
      "Cost difference due to swapping 2 and 28 is: 20.6\n",
      "Cost difference due to swapping 2 and 26 is: 114.3\n",
      "Cost difference due to swapping 2 and 1 is: 114.5\n",
      "Cost difference due to swapping 15 and 29 is: 68.2\n",
      "Cost difference due to swapping 15 and 28 is: 68.2\n",
      "Cost difference due to swapping 15 and 26 is: 155.6\n",
      "Cost difference due to swapping 15 and 1 is: 155.6\n",
      "Cost difference due to swapping 29 and 28 is: 0.0\n",
      "Cost difference due to swapping 29 and 26 is: 105.0\n",
      "Cost difference due to swapping 29 and 1 is: 105.0\n",
      "Cost difference due to swapping 28 and 26 is: 105.0\n",
      "Cost difference due to swapping 28 and 1 is: 105.0\n",
      "Cost difference due to swapping 26 and 1 is: 9.9\n",
      "\n",
      "Attempting to improve the tour [0, 27, 14, 4, 19, 24, 23, 9, 0] with length 522.7\n",
      "Cost difference due to swapping 27 and 14 is: 66.4\n",
      "Cost difference due to swapping 27 and 4 is: 119.7\n",
      "Cost difference due to swapping 27 and 19 is: 102.3\n",
      "Cost difference due to swapping 27 and 24 is: 83.1\n",
      "Cost difference due to swapping 27 and 23 is: -1.8\n",
      "Found an improving move! Updating the best tour...\n",
      "Improved tour is: [0, 23, 24, 19, 4, 14, 27, 9, 0] with length 520.9\n"
     ]
    }
   ],
   "source": [
    "greedy_vrp_solution = [] # to store vrp route data\n",
    "greedy_total_length = 0 # to count total length\n",
    "for tour in improved_sol: # iterates over improved_sol that we found in 2-exchange algorithm \n",
    "    tour_length = sum(d[tour[i]][tour[i+1]] for i in range(len(tour)-1)) # computes total length of current tour\n",
    "    new_tour, new_tour_length = greedy_two_opt(tour, tour_length, d) # using greedy_two_opt func that we add to TSPlib\n",
    "    greedy_vrp_solution.append(new_tour) # adds data to greedy_vrp_solution\n",
    "    greedy_total_length += new_tour_length # counts total length"
   ]
  },
  {
   "cell_type": "code",
   "execution_count": 401,
   "id": "3ee79eaa",
   "metadata": {},
   "outputs": [
    {
     "name": "stdout",
     "output_type": "stream",
     "text": [
      "[[0, 16, 13, 30, 6, 25, 7, 21, 8, 12, 18, 3, 0], [0, 22, 17, 5, 11, 10, 20, 2, 15, 29, 28, 26, 1, 0], [0, 23, 24, 19, 4, 14, 27, 9, 0]] 2521.1\n"
     ]
    }
   ],
   "source": [
    "print(greedy_vrp_solution, round(greedy_total_length, 2))"
   ]
  }
 ],
 "metadata": {
  "kernelspec": {
   "display_name": "Python 3 (ipykernel)",
   "language": "python",
   "name": "python3"
  },
  "language_info": {
   "codemirror_mode": {
    "name": "ipython",
    "version": 3
   },
   "file_extension": ".py",
   "mimetype": "text/x-python",
   "name": "python",
   "nbconvert_exporter": "python",
   "pygments_lexer": "ipython3",
   "version": "3.11.5"
  }
 },
 "nbformat": 4,
 "nbformat_minor": 5
}
